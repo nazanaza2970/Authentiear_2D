{
  "nbformat": 4,
  "nbformat_minor": 0,
  "metadata": {
    "colab": {
      "provenance": [],
      "collapsed_sections": [
        "1e7SCT3MwG18"
      ]
    },
    "kernelspec": {
      "name": "python3",
      "display_name": "Python 3"
    },
    "language_info": {
      "name": "python"
    }
  },
  "cells": [
    {
      "cell_type": "markdown",
      "source": [
        "# In use Code"
      ],
      "metadata": {
        "id": "Qyg5JzILv5uI"
      }
    },
    {
      "cell_type": "markdown",
      "source": [
        "**This is a template code for a simple siamese network, made with tensorlow. Needs some work before it can be trained.**"
      ],
      "metadata": {
        "id": "TXwFA7X8HRWg"
      }
    },
    {
      "cell_type": "code",
      "execution_count": null,
      "metadata": {
        "id": "xAPioRbXDNgk"
      },
      "outputs": [],
      "source": [
        "from keras.layers import Input, Dense, InputLayer, Conv2D, MaxPooling2D, UpSampling2D, InputLayer, Concatenate, Flatten, Reshape, Lambda, Embedding, dot\n",
        "from keras.models import Model, load_model, Sequential\n",
        "import matplotlib.pyplot as plt\n",
        "import keras.backend as K\n",
        "from sklearn.model_selection import train_test_split\n",
        "import os, sys\n",
        "import glob\n",
        "import tensorflow as tf\n",
        "from tensorflow.keras.utils import plot_model\n",
        "\n",
        "import numpy as np\n",
        "import pandas as pd\n",
        "import matplotlib.pyplot as plt\n",
        "from scipy.signal import find_peaks,butter, sosfiltfilt, sosfreqz\n",
        "from sklearn.preprocessing import RobustScaler\n",
        "from scipy import signal\n",
        "from PIL import Image\n",
        "\n",
        "import librosa\n",
        "from tqdm import tqdm\n",
        "import random"
      ]
    },
    {
      "cell_type": "code",
      "source": [
        "\n",
        "#to-do before training\n",
        "\n",
        "'''\n",
        "1. Pre-processing code to get cleaned data\n",
        "  a. re-sampling\n",
        "  b. filtering\n",
        "  c. outlier removal\n",
        "  d. median filter\n",
        "2. Windowing code -------------------------------- DONE\n",
        "3. Image generation (12 channel)\n",
        "4. Pairing code ---------------------------------- DONE\n",
        "'''"
      ],
      "metadata": {
        "colab": {
          "base_uri": "https://localhost:8080/",
          "height": 53
        },
        "id": "UfMIToXyOQ9U",
        "outputId": "e3964c06-8ca4-4296-9397-b092f2151b9d"
      },
      "execution_count": null,
      "outputs": [
        {
          "output_type": "execute_result",
          "data": {
            "text/plain": [
              "'\\n1. Pre-processing code to get cleaned data\\n  a. re-sampling\\n  b. filtering\\n  c. outlier removal\\n  d. median filter\\n2. Windowing code -------------------------------- DONE\\n3. Image generation (12 channel)\\n4. Pairing code ---------------------------------- DONE\\n'"
            ],
            "application/vnd.google.colaboratory.intrinsic+json": {
              "type": "string"
            }
          },
          "metadata": {},
          "execution_count": 2
        }
      ]
    },
    {
      "cell_type": "code",
      "source": [
        "#### Import data"
      ],
      "metadata": {
        "id": "7w5ttgbtBk9n"
      },
      "execution_count": null,
      "outputs": []
    },
    {
      "cell_type": "code",
      "source": [
        "!unzip \"authentiear_data.zip\""
      ],
      "metadata": {
        "id": "hsSi_fwt24JS",
        "outputId": "3dd0025b-3b75-4c71-a919-b3c010e75447",
        "colab": {
          "base_uri": "https://localhost:8080/"
        }
      },
      "execution_count": null,
      "outputs": [
        {
          "output_type": "stream",
          "name": "stdout",
          "text": [
            "Archive:  authentiear_data.zip\n",
            "  inflating: P01/P01-1ACC1.csv       \n",
            " extracting: P01/P01-1ACC1.csv_acc_info.txt  \n",
            "  inflating: P01/P01-1ACC2.csv       \n",
            " extracting: P01/P01-1ACC2.csv_acc_info.txt  \n",
            "  inflating: P01/P01-2ACC1.csv       \n",
            " extracting: P01/P01-2ACC1.csv_acc_info.txt  \n",
            "  inflating: P01/P01-2ACC2.csv       \n",
            " extracting: P01/P01-2ACC2.csv_acc_info.txt  \n",
            "  inflating: P01/P01-3ACC1.csv       \n",
            " extracting: P01/P01-3ACC1.csv_acc_info.txt  \n",
            "  inflating: P01/P01-3ACC2.csv       \n",
            " extracting: P01/P01-3ACC2.csv_acc_info.txt  \n",
            "  inflating: P01/P01-4ACC1.csv       \n",
            " extracting: P01/P01-4ACC1.csv_acc_info.txt  \n",
            "  inflating: P01/P01-4ACC2.csv       \n",
            " extracting: P01/P01-4ACC2.csv_acc_info.txt  \n",
            "  inflating: P01/P01-5ACC1.csv       \n",
            " extracting: P01/P01-5ACC1.csv_acc_info.txt  \n",
            "  inflating: P01/P01-5ACC2.csv       \n",
            " extracting: P01/P01-5ACC2.csv_acc_info.txt  \n",
            "  inflating: P01/P01-7ACC1.csv       \n",
            " extracting: P01/P01-7ACC1.csv_acc_info.txt  \n",
            "  inflating: P01/P01-7ACC2.csv       \n",
            " extracting: P01/P01-7ACC2.csv_acc_info.txt  \n",
            "  inflating: P02/P02-1ACC1.csv       \n",
            " extracting: P02/P02-1ACC1.csv_acc_info.txt  \n",
            "  inflating: P02/P02-1ACC2.csv       \n",
            " extracting: P02/P02-1ACC2.csv_acc_info.txt  \n",
            "  inflating: P02/P02-2ACC1.csv       \n",
            " extracting: P02/P02-2ACC1.csv_acc_info.txt  \n",
            "  inflating: P02/P02-2ACC2.csv       \n",
            " extracting: P02/P02-2ACC2.csv_acc_info.txt  \n",
            "  inflating: P02/P02-3ACC1.csv       \n",
            " extracting: P02/P02-3ACC1.csv_acc_info.txt  \n",
            "  inflating: P02/P02-3ACC2.csv       \n",
            " extracting: P02/P02-3ACC2.csv_acc_info.txt  \n",
            "  inflating: P02/P02-4ACC1.csv       \n",
            " extracting: P02/P02-4ACC1.csv_acc_info.txt  \n",
            "  inflating: P02/P02-4ACC2.csv       \n",
            " extracting: P02/P02-4ACC2.csv_acc_info.txt  \n",
            "  inflating: P02/P02-5ACC1.csv       \n",
            " extracting: P02/P02-5ACC1.csv_acc_info.txt  \n",
            "  inflating: P02/P02-5ACC2.csv       \n",
            " extracting: P02/P02-5ACC2.csv_acc_info.txt  \n",
            "  inflating: P02/P02-6ACC1.csv       \n",
            " extracting: P02/P02-6ACC1.csv_acc_info.txt  \n",
            "  inflating: P02/P02-6ACC2.csv       \n",
            " extracting: P02/P02-6ACC2.csv_acc_info.txt  \n",
            "  inflating: P02/P02-7ACC1.csv       \n",
            " extracting: P02/P02-7ACC1.csv_acc_info.txt  \n",
            "  inflating: P02/P02-7ACC2.csv       \n",
            " extracting: P02/P02-7ACC2.csv_acc_info.txt  \n",
            "  inflating: P03/P03-1ACC1.csv       \n",
            " extracting: P03/P03-1ACC1.csv_acc_info.txt  \n",
            "  inflating: P03/P03-1ACC2.csv       \n",
            " extracting: P03/P03-1ACC2.csv_acc_info.txt  \n",
            "  inflating: P03/P03-2ACC1.csv       \n",
            " extracting: P03/P03-2ACC1.csv_acc_info.txt  \n",
            "  inflating: P03/P03-2ACC2.csv       \n",
            " extracting: P03/P03-2ACC2.csv_acc_info.txt  \n",
            "  inflating: P03/P03-3ACC1.csv       \n",
            " extracting: P03/P03-3ACC1.csv_acc_info.txt  \n",
            "  inflating: P03/P03-3ACC2.csv       \n",
            " extracting: P03/P03-3ACC2.csv_acc_info.txt  \n",
            "  inflating: P03/P03-4ACC1.csv       \n",
            " extracting: P03/P03-4ACC1.csv_acc_info.txt  \n",
            "  inflating: P03/P03-4ACC2.csv       \n",
            " extracting: P03/P03-4ACC2.csv_acc_info.txt  \n",
            "  inflating: P03/P03-5ACC1.csv       \n",
            " extracting: P03/P03-5ACC1.csv_acc_info.txt  \n",
            "  inflating: P03/P03-5ACC2.csv       \n",
            " extracting: P03/P03-5ACC2.csv_acc_info.txt  \n",
            "  inflating: P03/P03-6ACC1.csv       \n",
            " extracting: P03/P03-6ACC1.csv_acc_info.txt  \n",
            "  inflating: P03/P03-6ACC2.csv       \n",
            " extracting: P03/P03-6ACC2.csv_acc_info.txt  \n",
            "  inflating: P03/P03-7ACC1.csv       \n",
            " extracting: P03/P03-7ACC1.csv_acc_info.txt  \n",
            "  inflating: P03/P03-7ACC2.csv       \n",
            " extracting: P03/P03-7ACC2.csv_acc_info.txt  \n",
            "  inflating: P05/P05-1ACC1.csv       \n",
            " extracting: P05/P05-1ACC1.csv_acc_info.txt  \n",
            "  inflating: P05/P05-1ACC2.csv       \n",
            " extracting: P05/P05-1ACC2.csv_acc_info.txt  \n",
            "  inflating: P05/P05-2ACC1.csv       \n",
            " extracting: P05/P05-2ACC1.csv_acc_info.txt  \n",
            "  inflating: P05/P05-2ACC2.csv       \n",
            " extracting: P05/P05-2ACC2.csv_acc_info.txt  \n",
            "  inflating: P05/P05-3ACC1.csv       \n",
            " extracting: P05/P05-3ACC1.csv_acc_info.txt  \n",
            "  inflating: P05/P05-3ACC2.csv       \n",
            " extracting: P05/P05-3ACC2.csv_acc_info.txt  \n",
            "  inflating: P05/P05-4ACC1.csv       \n",
            " extracting: P05/P05-4ACC1.csv_acc_info.txt  \n",
            "  inflating: P05/P05-4ACC2.csv       \n",
            " extracting: P05/P05-4ACC2.csv_acc_info.txt  \n",
            "  inflating: P05/P05-5ACC1.csv       \n",
            " extracting: P05/P05-5ACC1.csv_acc_info.txt  \n",
            "  inflating: P05/P05-5ACC2.csv       \n",
            " extracting: P05/P05-5ACC2.csv_acc_info.txt  \n",
            "  inflating: P05/P05-6ACC1.csv       \n",
            " extracting: P05/P05-6ACC1.csv_acc_info.txt  \n",
            "  inflating: P05/P05-6ACC2.csv       \n",
            " extracting: P05/P05-6ACC2.csv_acc_info.txt  \n",
            "  inflating: P05/P05-7ACC1.csv       \n",
            " extracting: P05/P05-7ACC1.csv_acc_info.txt  \n",
            "  inflating: P05/P05-7ACC2.csv       \n",
            " extracting: P05/P05-7ACC2.csv_acc_info.txt  \n"
          ]
        }
      ]
    },
    {
      "cell_type": "code",
      "source": [
        "##### Pre-processing\n",
        "\n",
        "## Resampling\n",
        "## Bandpass filtering\n",
        "## Outliers\n"
      ],
      "metadata": {
        "id": "4pfOnuaMBAAY"
      },
      "execution_count": null,
      "outputs": []
    },
    {
      "cell_type": "markdown",
      "source": [
        "**Windowing Code**"
      ],
      "metadata": {
        "id": "iPNwUV74Xcac"
      }
    },
    {
      "cell_type": "code",
      "source": [
        "def window_data(data, fs, s, ov):\n",
        "    \"\"\"\n",
        "    Windows a 1d np array of timeseries data into s second frames with ov percentage of overlap.\n",
        "    Needs to be applied along every column\n",
        "\n",
        "    Args:\n",
        "        data: 1d np array of timeseries data.\n",
        "        fs: Sampling rate in Hz.\n",
        "        s: Window length in seconds.\n",
        "        ov: Overlap rate as decimal point.\n",
        "\n",
        "    Returns:\n",
        "        2d np array of windowed data.\n",
        "    \"\"\"\n",
        "\n",
        "    # Calculate the window length in samples.\n",
        "    window_length = int(fs * s)\n",
        "\n",
        "    # Calculate the overlap length in samples.\n",
        "    overlap_length = int(window_length * ov)\n",
        "\n",
        "    # Calculate the number of windows\n",
        "    num_windows = int(np.ceil((len(data) - window_length) / (window_length - overlap_length))) + 1\n",
        "\n",
        "    # Initialize the output array.\n",
        "    windowed_data = np.zeros((num_windows, window_length))\n",
        "\n",
        "    # Loop over the data and window it.\n",
        "    for i in range(num_windows):\n",
        "        start_index = i * (window_length - overlap_length)\n",
        "        end_index = min(start_index + window_length, len(data))\n",
        "        windowed_data[i, :end_index - start_index] = data[start_index:end_index]\n",
        "\n",
        "    return windowed_data"
      ],
      "metadata": {
        "id": "ilNORODUPoPO"
      },
      "execution_count": null,
      "outputs": []
    },
    {
      "cell_type": "code",
      "source": [
        "# window_data(np.array([1,2,3,4,5,6,7,8,9,10]),2,2,0.5)"
      ],
      "metadata": {
        "id": "sbGn3C9FTkG7"
      },
      "execution_count": null,
      "outputs": []
    },
    {
      "cell_type": "markdown",
      "source": [
        "**Pre-processing**\n",
        "\n"
      ],
      "metadata": {
        "id": "z0NOyr2U3JwX"
      }
    },
    {
      "cell_type": "code",
      "source": [
        "def pre_process(file_dir,person,order,lowcut,highcut,fs,s,ov):\n",
        "\n",
        "  '''\n",
        "  Args:\n",
        "    file_dir: directory of all unzipped files\n",
        "    person: person identifier. e.g. \"P05\"\n",
        "    order: bpass filter order\n",
        "    lowcut: low freq threshold for bpass\n",
        "    highcut: high freq threshold for bpass\n",
        "    fs: sampling frequency\n",
        "    s: windowing time in second\n",
        "    ov: overlap rate in decimal point\n",
        "  Returns:\n",
        "    windows of preprocessed data. (12 2D np arrays in a list, each 2D array has 1D windows from one column in the csv)\n",
        "  '''\n",
        "\n",
        "  # scan and list all files\n",
        "  all_files = glob.glob(file_dir+\"/**/*.csv\",recursive=True)\n",
        "  target_files = [x for x in all_files if person in x]\n",
        "  print(target_files)\n",
        "  data_l = [x for x in target_files if \"ACC1\" in x]\n",
        "  data_r = [x for x in target_files if \"ACC2\" in x]\n",
        "\n",
        "  # read left and right data\n",
        "# read left and right data\n",
        "  L=[]\n",
        "  R=[]\n",
        "  s_rate = str(int(1000/fs))+\"ms\"\n",
        "\n",
        "  for idx in range(len(data_l)):\n",
        "      L_=pd.read_csv(data_l[idx],names = [\"timestamp\",\"Ax\",\"Ay\",\"Az\",\"Gx\",\"Gy\",\"Gz\"])\n",
        "      R_=pd.read_csv(data_r[idx],names = [\"timestamp\",\"Ax\",\"Ay\",\"Az\",\"Gx\",\"Gy\",\"Gz\"])\n",
        "\n",
        "      # assign timestamp as index\n",
        "      L_['timestamp'] = pd.to_datetime(L_['timestamp'], unit='ms')\n",
        "      R_['timestamp'] = pd.to_datetime(R_['timestamp'], unit='ms')\n",
        "      L_ = L_.set_index('timestamp')\n",
        "      R_ = R_.set_index('timestamp')\n",
        "\n",
        "      # resample files from both sensors to match up the values\n",
        "      #https://stackoverflow.com/questions/17001389/pandas-resample-documentation\n",
        "      L_=L_.resample(s_rate).mean()\n",
        "      R_=R_.resample(s_rate).mean()\n",
        "\n",
        "      # interpolate\n",
        "      L_ = L_.interpolate(method=\"linear\",axis=0)\n",
        "      R_ = R_.interpolate(method=\"linear\",axis=0)\n",
        "\n",
        "      L.append(L_)\n",
        "      R.append(R_)\n",
        "\n",
        "  L = pd.concat(L)\n",
        "  R = pd.concat(R)\n",
        "\n",
        "  #pre-process (bandpass filter, windowing)\n",
        "  data = []\n",
        "\n",
        "  sos = butter(N=order, Wn=[lowcut,highcut], btype='bandpass', fs=fs, output='sos', analog=False)\n",
        "  transformer = RobustScaler()\n",
        "\n",
        "  for col in L.columns:\n",
        "      signal = sosfiltfilt(sos, L[col])\n",
        "      # signal = transformer.fit_transform(signal)\n",
        "      data.append(window_data(np.array(signal),fs,s,ov))\n",
        "  for col in R.columns:\n",
        "      signal = sosfiltfilt(sos, R[col])\n",
        "      # signal = transformer.fit_transform(signal)\n",
        "      data.append(window_data(np.array(signal),fs,s,ov))\n",
        "\n",
        "  return data"
      ],
      "metadata": {
        "id": "0uh2Jaye3LVu"
      },
      "execution_count": null,
      "outputs": []
    },
    {
      "cell_type": "code",
      "source": [
        "p1_data = pre_process(\"/content/\",\"P01\",2,10,200,500,15,0.2)\n",
        "p2_data = pre_process(\"/content/\",\"P02\",2,10,200,500,15,0.2)\n",
        "# !ls"
      ],
      "metadata": {
        "id": "FWcO_hwt3Zj0",
        "colab": {
          "base_uri": "https://localhost:8080/"
        },
        "outputId": "06ec7274-01e5-4f6e-e129-3d3dad23ebd2"
      },
      "execution_count": null,
      "outputs": [
        {
          "output_type": "stream",
          "name": "stdout",
          "text": [
            "['/content/P01/P01-3ACC2.csv', '/content/P01/P01-1ACC2.csv', '/content/P01/P01-5ACC1.csv', '/content/P01/P01-3ACC1.csv', '/content/P01/P01-2ACC1.csv', '/content/P01/P01-7ACC2.csv', '/content/P01/P01-1ACC1.csv', '/content/P01/P01-5ACC2.csv', '/content/P01/P01-4ACC1.csv', '/content/P01/P01-4ACC2.csv', '/content/P01/P01-7ACC1.csv', '/content/P01/P01-2ACC2.csv']\n",
            "['/content/P02/P02-2ACC1.csv', '/content/P02/P02-6ACC2.csv', '/content/P02/P02-1ACC1.csv', '/content/P02/P02-7ACC1.csv', '/content/P02/P02-5ACC2.csv', '/content/P02/P02-1ACC2.csv', '/content/P02/P02-5ACC1.csv', '/content/P02/P02-6ACC1.csv', '/content/P02/P02-4ACC2.csv', '/content/P02/P02-7ACC2.csv', '/content/P02/P02-2ACC2.csv', '/content/P02/P02-3ACC1.csv', '/content/P02/P02-3ACC2.csv', '/content/P02/P02-4ACC1.csv']\n"
          ]
        }
      ]
    },
    {
      "cell_type": "markdown",
      "source": [
        "**Image generation**"
      ],
      "metadata": {
        "id": "FT7eNjRHXfyb"
      }
    },
    {
      "cell_type": "code",
      "source": [
        "def generate_image_2(data, fs=500, window_size=0.1, overlap=0.5, target_size=(64, 64)):\n",
        "\n",
        "  num_channels = 12\n",
        "  num_windows = data[0].shape[0]\n",
        "  all_images = []\n",
        "\n",
        "  nperseg = int(window_size * fs)\n",
        "  noverlap = int(nperseg * overlap)\n",
        "\n",
        "  for i in tqdm(range(data[0].shape[0])):\n",
        "  # for i in tqdm(range(5)):\n",
        "    combined_image = []\n",
        "    for j in range(12):\n",
        "      # p5_data[j][i]\n",
        "      f, t, Sxx = signal.spectrogram(data[j][i], 500, window='hamming', nperseg=nperseg, noverlap=overlap)\n",
        "      Sxx_dB = 10 * np.log10(Sxx)\n",
        "      # Normalize the dB values to 0-255 for grayscale image\n",
        "      Sxx_norm = (Sxx_dB - np.min(Sxx_dB)) / (np.max(Sxx_dB) - np.min(Sxx_dB)) * 255\n",
        "      # Convert to uint8\n",
        "      Sxx_img = Sxx_norm.astype(np.uint8)\n",
        "      # Resize image to target size\n",
        "      img = Image.fromarray(Sxx_img)\n",
        "      img_resized = img.resize(target_size)\n",
        "      # Add to combined image\n",
        "      # plt.figure(figsize=(3, 3))\n",
        "      # plt.imshow(img_resized)\n",
        "      # plt.axis('off')\n",
        "      # plt.title(f'Channel {i+1}')\n",
        "      # plt.show()\n",
        "      combined_image.append(np.array(img_resized))\n",
        "      # print(len(combined_image))\n",
        "    # Stack images along the last axis to create a 12-channel image\n",
        "    combined_image = np.stack(combined_image, axis=2)\n",
        "    # print(combined_image.shape)\n",
        "    # save images to master list\n",
        "    all_images.append(combined_image)\n",
        "\n",
        "  return all_images"
      ],
      "metadata": {
        "id": "TEQy6a07nOse"
      },
      "execution_count": null,
      "outputs": []
    },
    {
      "cell_type": "code",
      "source": [
        "# p_1_images = generate_image_2(p1_data)\n",
        "# p_2_images = generate_image_2(p2_data)"
      ],
      "metadata": {
        "id": "R9YZ41S6-DfK"
      },
      "execution_count": null,
      "outputs": []
    },
    {
      "cell_type": "markdown",
      "source": [
        "**Pair Generation**"
      ],
      "metadata": {
        "id": "io0F9EBV9DW_"
      }
    },
    {
      "cell_type": "code",
      "source": [
        "def get_pairs(lists, pos, neg):\n",
        "  X1 = []\n",
        "  X2 = []\n",
        "  y = []\n",
        "\n",
        "  for idx in range(pos+neg):\n",
        "   #for positive, take from same list\n",
        "    list_a = lists[random.randint(0,len(lists)-1)]\n",
        "\n",
        "    X1.append(list_a[random.randint(0,len(list_a)-1)])\n",
        "    X2.append(list_a[random.randint(0,len(list_a)-1)])\n",
        "    y.append(0)\n",
        "\n",
        "   #for negative, take from different lists\n",
        "    ind_1 = random.randint(0,len(lists)-1)\n",
        "    ind_2 = random.randint(0,len(lists)-1)\n",
        "    while ind_1 == ind_2:\n",
        "      ind_2 = random.randint(0,len(lists)-1)\n",
        "\n",
        "    list_a = lists[ind_1]\n",
        "    list_b = lists[ind_2]\n",
        "\n",
        "    X1.append(list_a[random.randint(0,len(list_a)-1)])\n",
        "    X2.append(list_b[random.randint(0,len(list_b)-1)])\n",
        "    y.append(1)\n",
        "\n",
        "  return X1,X2, y"
      ],
      "metadata": {
        "id": "ivD1_qVwwtrW"
      },
      "execution_count": null,
      "outputs": []
    },
    {
      "cell_type": "code",
      "source": [
        "# x1,x2,y = get_pairs([p_1_images,p_2_images], 5,5)"
      ],
      "metadata": {
        "id": "xP6uWCpK11YW"
      },
      "execution_count": null,
      "outputs": []
    },
    {
      "cell_type": "markdown",
      "source": [
        "**Triplet Generation**"
      ],
      "metadata": {
        "id": "ASUHgtAhIZFH"
      }
    },
    {
      "cell_type": "code",
      "source": [
        "import pandas as pd\n",
        "import numpy as np\n",
        "from itertools import combinations\n",
        "\n",
        "# Sample lists (replace with your actual data)\n",
        "lists = [[\"apple\", \"banana\", \"cherry\"], [\"red\", \"green\", \"blue\"], [\"dog\", \"cat\", \"fish\"]]\n",
        "\n",
        "dummy_data = []\n",
        "for i in range(len(lists)):\n",
        "  for x in lists[i]:\n",
        "    dummy_data.append((i, x))\n",
        "print(dummy_data)\n",
        "\n",
        "df = pd.DataFrame(dummy_data, columns=['label','data'])\n",
        "display(df)\n",
        "\n",
        "def get_triplets(df):\n",
        "  triplets = []\n",
        "  labels = df['label'].unique()\n",
        "\n",
        "  grouped = df.groupby('label')\n",
        "  for label, group in grouped:\n",
        "        # Extract samples and their indices for this class\n",
        "        samples = group.drop(columns=['label']).values\n",
        "        indices = group.index.values\n",
        "\n",
        "        # Generate all possible combinations of anchor, positive, and negative samples\n",
        "        for anchor_index, positive_index in combinations(range(len(samples)), 2):\n",
        "            anchor = samples[anchor_index][0]\n",
        "            positive = samples[positive_index][0]\n",
        "\n",
        "            # Select negative samples from other classes\n",
        "            other_classes = [grp.drop(columns=['label']).values for lbl, grp in grouped if lbl != label]\n",
        "            for other_class in other_classes:\n",
        "                for negative in other_class:\n",
        "                    triplets.append((anchor, positive, negative[0]))\n",
        "\n",
        "  return np.array(triplets)\n",
        "\n",
        "triplets = get_triplets(df)\n",
        "print(triplets)"
      ],
      "metadata": {
        "id": "QnvJrbUsIgPu",
        "outputId": "1c977c42-5a1a-44d3-eba5-d410e53663b6",
        "colab": {
          "base_uri": "https://localhost:8080/",
          "height": 1000
        }
      },
      "execution_count": null,
      "outputs": [
        {
          "output_type": "stream",
          "name": "stdout",
          "text": [
            "[(0, 'apple'), (0, 'banana'), (0, 'cherry'), (1, 'red'), (1, 'green'), (1, 'blue'), (2, 'dog'), (2, 'cat'), (2, 'fish')]\n"
          ]
        },
        {
          "output_type": "display_data",
          "data": {
            "text/plain": [
              "   label    data\n",
              "0      0   apple\n",
              "1      0  banana\n",
              "2      0  cherry\n",
              "3      1     red\n",
              "4      1   green\n",
              "5      1    blue\n",
              "6      2     dog\n",
              "7      2     cat\n",
              "8      2    fish"
            ],
            "text/html": [
              "\n",
              "  <div id=\"df-cd529894-e694-42b6-81c8-3f6eb5b8275a\" class=\"colab-df-container\">\n",
              "    <div>\n",
              "<style scoped>\n",
              "    .dataframe tbody tr th:only-of-type {\n",
              "        vertical-align: middle;\n",
              "    }\n",
              "\n",
              "    .dataframe tbody tr th {\n",
              "        vertical-align: top;\n",
              "    }\n",
              "\n",
              "    .dataframe thead th {\n",
              "        text-align: right;\n",
              "    }\n",
              "</style>\n",
              "<table border=\"1\" class=\"dataframe\">\n",
              "  <thead>\n",
              "    <tr style=\"text-align: right;\">\n",
              "      <th></th>\n",
              "      <th>label</th>\n",
              "      <th>data</th>\n",
              "    </tr>\n",
              "  </thead>\n",
              "  <tbody>\n",
              "    <tr>\n",
              "      <th>0</th>\n",
              "      <td>0</td>\n",
              "      <td>apple</td>\n",
              "    </tr>\n",
              "    <tr>\n",
              "      <th>1</th>\n",
              "      <td>0</td>\n",
              "      <td>banana</td>\n",
              "    </tr>\n",
              "    <tr>\n",
              "      <th>2</th>\n",
              "      <td>0</td>\n",
              "      <td>cherry</td>\n",
              "    </tr>\n",
              "    <tr>\n",
              "      <th>3</th>\n",
              "      <td>1</td>\n",
              "      <td>red</td>\n",
              "    </tr>\n",
              "    <tr>\n",
              "      <th>4</th>\n",
              "      <td>1</td>\n",
              "      <td>green</td>\n",
              "    </tr>\n",
              "    <tr>\n",
              "      <th>5</th>\n",
              "      <td>1</td>\n",
              "      <td>blue</td>\n",
              "    </tr>\n",
              "    <tr>\n",
              "      <th>6</th>\n",
              "      <td>2</td>\n",
              "      <td>dog</td>\n",
              "    </tr>\n",
              "    <tr>\n",
              "      <th>7</th>\n",
              "      <td>2</td>\n",
              "      <td>cat</td>\n",
              "    </tr>\n",
              "    <tr>\n",
              "      <th>8</th>\n",
              "      <td>2</td>\n",
              "      <td>fish</td>\n",
              "    </tr>\n",
              "  </tbody>\n",
              "</table>\n",
              "</div>\n",
              "    <div class=\"colab-df-buttons\">\n",
              "\n",
              "  <div class=\"colab-df-container\">\n",
              "    <button class=\"colab-df-convert\" onclick=\"convertToInteractive('df-cd529894-e694-42b6-81c8-3f6eb5b8275a')\"\n",
              "            title=\"Convert this dataframe to an interactive table.\"\n",
              "            style=\"display:none;\">\n",
              "\n",
              "  <svg xmlns=\"http://www.w3.org/2000/svg\" height=\"24px\" viewBox=\"0 -960 960 960\">\n",
              "    <path d=\"M120-120v-720h720v720H120Zm60-500h600v-160H180v160Zm220 220h160v-160H400v160Zm0 220h160v-160H400v160ZM180-400h160v-160H180v160Zm440 0h160v-160H620v160ZM180-180h160v-160H180v160Zm440 0h160v-160H620v160Z\"/>\n",
              "  </svg>\n",
              "    </button>\n",
              "\n",
              "  <style>\n",
              "    .colab-df-container {\n",
              "      display:flex;\n",
              "      gap: 12px;\n",
              "    }\n",
              "\n",
              "    .colab-df-convert {\n",
              "      background-color: #E8F0FE;\n",
              "      border: none;\n",
              "      border-radius: 50%;\n",
              "      cursor: pointer;\n",
              "      display: none;\n",
              "      fill: #1967D2;\n",
              "      height: 32px;\n",
              "      padding: 0 0 0 0;\n",
              "      width: 32px;\n",
              "    }\n",
              "\n",
              "    .colab-df-convert:hover {\n",
              "      background-color: #E2EBFA;\n",
              "      box-shadow: 0px 1px 2px rgba(60, 64, 67, 0.3), 0px 1px 3px 1px rgba(60, 64, 67, 0.15);\n",
              "      fill: #174EA6;\n",
              "    }\n",
              "\n",
              "    .colab-df-buttons div {\n",
              "      margin-bottom: 4px;\n",
              "    }\n",
              "\n",
              "    [theme=dark] .colab-df-convert {\n",
              "      background-color: #3B4455;\n",
              "      fill: #D2E3FC;\n",
              "    }\n",
              "\n",
              "    [theme=dark] .colab-df-convert:hover {\n",
              "      background-color: #434B5C;\n",
              "      box-shadow: 0px 1px 3px 1px rgba(0, 0, 0, 0.15);\n",
              "      filter: drop-shadow(0px 1px 2px rgba(0, 0, 0, 0.3));\n",
              "      fill: #FFFFFF;\n",
              "    }\n",
              "  </style>\n",
              "\n",
              "    <script>\n",
              "      const buttonEl =\n",
              "        document.querySelector('#df-cd529894-e694-42b6-81c8-3f6eb5b8275a button.colab-df-convert');\n",
              "      buttonEl.style.display =\n",
              "        google.colab.kernel.accessAllowed ? 'block' : 'none';\n",
              "\n",
              "      async function convertToInteractive(key) {\n",
              "        const element = document.querySelector('#df-cd529894-e694-42b6-81c8-3f6eb5b8275a');\n",
              "        const dataTable =\n",
              "          await google.colab.kernel.invokeFunction('convertToInteractive',\n",
              "                                                    [key], {});\n",
              "        if (!dataTable) return;\n",
              "\n",
              "        const docLinkHtml = 'Like what you see? Visit the ' +\n",
              "          '<a target=\"_blank\" href=https://colab.research.google.com/notebooks/data_table.ipynb>data table notebook</a>'\n",
              "          + ' to learn more about interactive tables.';\n",
              "        element.innerHTML = '';\n",
              "        dataTable['output_type'] = 'display_data';\n",
              "        await google.colab.output.renderOutput(dataTable, element);\n",
              "        const docLink = document.createElement('div');\n",
              "        docLink.innerHTML = docLinkHtml;\n",
              "        element.appendChild(docLink);\n",
              "      }\n",
              "    </script>\n",
              "  </div>\n",
              "\n",
              "\n",
              "<div id=\"df-ea216d84-4c55-40bf-a44c-8864aaec6a53\">\n",
              "  <button class=\"colab-df-quickchart\" onclick=\"quickchart('df-ea216d84-4c55-40bf-a44c-8864aaec6a53')\"\n",
              "            title=\"Suggest charts\"\n",
              "            style=\"display:none;\">\n",
              "\n",
              "<svg xmlns=\"http://www.w3.org/2000/svg\" height=\"24px\"viewBox=\"0 0 24 24\"\n",
              "     width=\"24px\">\n",
              "    <g>\n",
              "        <path d=\"M19 3H5c-1.1 0-2 .9-2 2v14c0 1.1.9 2 2 2h14c1.1 0 2-.9 2-2V5c0-1.1-.9-2-2-2zM9 17H7v-7h2v7zm4 0h-2V7h2v10zm4 0h-2v-4h2v4z\"/>\n",
              "    </g>\n",
              "</svg>\n",
              "  </button>\n",
              "\n",
              "<style>\n",
              "  .colab-df-quickchart {\n",
              "      --bg-color: #E8F0FE;\n",
              "      --fill-color: #1967D2;\n",
              "      --hover-bg-color: #E2EBFA;\n",
              "      --hover-fill-color: #174EA6;\n",
              "      --disabled-fill-color: #AAA;\n",
              "      --disabled-bg-color: #DDD;\n",
              "  }\n",
              "\n",
              "  [theme=dark] .colab-df-quickchart {\n",
              "      --bg-color: #3B4455;\n",
              "      --fill-color: #D2E3FC;\n",
              "      --hover-bg-color: #434B5C;\n",
              "      --hover-fill-color: #FFFFFF;\n",
              "      --disabled-bg-color: #3B4455;\n",
              "      --disabled-fill-color: #666;\n",
              "  }\n",
              "\n",
              "  .colab-df-quickchart {\n",
              "    background-color: var(--bg-color);\n",
              "    border: none;\n",
              "    border-radius: 50%;\n",
              "    cursor: pointer;\n",
              "    display: none;\n",
              "    fill: var(--fill-color);\n",
              "    height: 32px;\n",
              "    padding: 0;\n",
              "    width: 32px;\n",
              "  }\n",
              "\n",
              "  .colab-df-quickchart:hover {\n",
              "    background-color: var(--hover-bg-color);\n",
              "    box-shadow: 0 1px 2px rgba(60, 64, 67, 0.3), 0 1px 3px 1px rgba(60, 64, 67, 0.15);\n",
              "    fill: var(--button-hover-fill-color);\n",
              "  }\n",
              "\n",
              "  .colab-df-quickchart-complete:disabled,\n",
              "  .colab-df-quickchart-complete:disabled:hover {\n",
              "    background-color: var(--disabled-bg-color);\n",
              "    fill: var(--disabled-fill-color);\n",
              "    box-shadow: none;\n",
              "  }\n",
              "\n",
              "  .colab-df-spinner {\n",
              "    border: 2px solid var(--fill-color);\n",
              "    border-color: transparent;\n",
              "    border-bottom-color: var(--fill-color);\n",
              "    animation:\n",
              "      spin 1s steps(1) infinite;\n",
              "  }\n",
              "\n",
              "  @keyframes spin {\n",
              "    0% {\n",
              "      border-color: transparent;\n",
              "      border-bottom-color: var(--fill-color);\n",
              "      border-left-color: var(--fill-color);\n",
              "    }\n",
              "    20% {\n",
              "      border-color: transparent;\n",
              "      border-left-color: var(--fill-color);\n",
              "      border-top-color: var(--fill-color);\n",
              "    }\n",
              "    30% {\n",
              "      border-color: transparent;\n",
              "      border-left-color: var(--fill-color);\n",
              "      border-top-color: var(--fill-color);\n",
              "      border-right-color: var(--fill-color);\n",
              "    }\n",
              "    40% {\n",
              "      border-color: transparent;\n",
              "      border-right-color: var(--fill-color);\n",
              "      border-top-color: var(--fill-color);\n",
              "    }\n",
              "    60% {\n",
              "      border-color: transparent;\n",
              "      border-right-color: var(--fill-color);\n",
              "    }\n",
              "    80% {\n",
              "      border-color: transparent;\n",
              "      border-right-color: var(--fill-color);\n",
              "      border-bottom-color: var(--fill-color);\n",
              "    }\n",
              "    90% {\n",
              "      border-color: transparent;\n",
              "      border-bottom-color: var(--fill-color);\n",
              "    }\n",
              "  }\n",
              "</style>\n",
              "\n",
              "  <script>\n",
              "    async function quickchart(key) {\n",
              "      const quickchartButtonEl =\n",
              "        document.querySelector('#' + key + ' button');\n",
              "      quickchartButtonEl.disabled = true;  // To prevent multiple clicks.\n",
              "      quickchartButtonEl.classList.add('colab-df-spinner');\n",
              "      try {\n",
              "        const charts = await google.colab.kernel.invokeFunction(\n",
              "            'suggestCharts', [key], {});\n",
              "      } catch (error) {\n",
              "        console.error('Error during call to suggestCharts:', error);\n",
              "      }\n",
              "      quickchartButtonEl.classList.remove('colab-df-spinner');\n",
              "      quickchartButtonEl.classList.add('colab-df-quickchart-complete');\n",
              "    }\n",
              "    (() => {\n",
              "      let quickchartButtonEl =\n",
              "        document.querySelector('#df-ea216d84-4c55-40bf-a44c-8864aaec6a53 button');\n",
              "      quickchartButtonEl.style.display =\n",
              "        google.colab.kernel.accessAllowed ? 'block' : 'none';\n",
              "    })();\n",
              "  </script>\n",
              "</div>\n",
              "\n",
              "  <div id=\"id_319d668d-5b64-4ddd-ab44-288566ff3f73\">\n",
              "    <style>\n",
              "      .colab-df-generate {\n",
              "        background-color: #E8F0FE;\n",
              "        border: none;\n",
              "        border-radius: 50%;\n",
              "        cursor: pointer;\n",
              "        display: none;\n",
              "        fill: #1967D2;\n",
              "        height: 32px;\n",
              "        padding: 0 0 0 0;\n",
              "        width: 32px;\n",
              "      }\n",
              "\n",
              "      .colab-df-generate:hover {\n",
              "        background-color: #E2EBFA;\n",
              "        box-shadow: 0px 1px 2px rgba(60, 64, 67, 0.3), 0px 1px 3px 1px rgba(60, 64, 67, 0.15);\n",
              "        fill: #174EA6;\n",
              "      }\n",
              "\n",
              "      [theme=dark] .colab-df-generate {\n",
              "        background-color: #3B4455;\n",
              "        fill: #D2E3FC;\n",
              "      }\n",
              "\n",
              "      [theme=dark] .colab-df-generate:hover {\n",
              "        background-color: #434B5C;\n",
              "        box-shadow: 0px 1px 3px 1px rgba(0, 0, 0, 0.15);\n",
              "        filter: drop-shadow(0px 1px 2px rgba(0, 0, 0, 0.3));\n",
              "        fill: #FFFFFF;\n",
              "      }\n",
              "    </style>\n",
              "    <button class=\"colab-df-generate\" onclick=\"generateWithVariable('df')\"\n",
              "            title=\"Generate code using this dataframe.\"\n",
              "            style=\"display:none;\">\n",
              "\n",
              "  <svg xmlns=\"http://www.w3.org/2000/svg\" height=\"24px\"viewBox=\"0 0 24 24\"\n",
              "       width=\"24px\">\n",
              "    <path d=\"M7,19H8.4L18.45,9,17,7.55,7,17.6ZM5,21V16.75L18.45,3.32a2,2,0,0,1,2.83,0l1.4,1.43a1.91,1.91,0,0,1,.58,1.4,1.91,1.91,0,0,1-.58,1.4L9.25,21ZM18.45,9,17,7.55Zm-12,3A5.31,5.31,0,0,0,4.9,8.1,5.31,5.31,0,0,0,1,6.5,5.31,5.31,0,0,0,4.9,4.9,5.31,5.31,0,0,0,6.5,1,5.31,5.31,0,0,0,8.1,4.9,5.31,5.31,0,0,0,12,6.5,5.46,5.46,0,0,0,6.5,12Z\"/>\n",
              "  </svg>\n",
              "    </button>\n",
              "    <script>\n",
              "      (() => {\n",
              "      const buttonEl =\n",
              "        document.querySelector('#id_319d668d-5b64-4ddd-ab44-288566ff3f73 button.colab-df-generate');\n",
              "      buttonEl.style.display =\n",
              "        google.colab.kernel.accessAllowed ? 'block' : 'none';\n",
              "\n",
              "      buttonEl.onclick = () => {\n",
              "        google.colab.notebook.generateWithVariable('df');\n",
              "      }\n",
              "      })();\n",
              "    </script>\n",
              "  </div>\n",
              "\n",
              "    </div>\n",
              "  </div>\n"
            ],
            "application/vnd.google.colaboratory.intrinsic+json": {
              "type": "dataframe",
              "variable_name": "df",
              "summary": "{\n  \"name\": \"df\",\n  \"rows\": 9,\n  \"fields\": [\n    {\n      \"column\": \"label\",\n      \"properties\": {\n        \"dtype\": \"number\",\n        \"std\": 0,\n        \"min\": 0,\n        \"max\": 2,\n        \"num_unique_values\": 3,\n        \"samples\": [\n          0,\n          1,\n          2\n        ],\n        \"semantic_type\": \"\",\n        \"description\": \"\"\n      }\n    },\n    {\n      \"column\": \"data\",\n      \"properties\": {\n        \"dtype\": \"string\",\n        \"num_unique_values\": 9,\n        \"samples\": [\n          \"cat\",\n          \"banana\",\n          \"blue\"\n        ],\n        \"semantic_type\": \"\",\n        \"description\": \"\"\n      }\n    }\n  ]\n}"
            }
          },
          "metadata": {}
        },
        {
          "output_type": "stream",
          "name": "stdout",
          "text": [
            "[['apple' 'banana' 'red']\n",
            " ['apple' 'banana' 'green']\n",
            " ['apple' 'banana' 'blue']\n",
            " ['apple' 'banana' 'dog']\n",
            " ['apple' 'banana' 'cat']\n",
            " ['apple' 'banana' 'fish']\n",
            " ['apple' 'cherry' 'red']\n",
            " ['apple' 'cherry' 'green']\n",
            " ['apple' 'cherry' 'blue']\n",
            " ['apple' 'cherry' 'dog']\n",
            " ['apple' 'cherry' 'cat']\n",
            " ['apple' 'cherry' 'fish']\n",
            " ['banana' 'cherry' 'red']\n",
            " ['banana' 'cherry' 'green']\n",
            " ['banana' 'cherry' 'blue']\n",
            " ['banana' 'cherry' 'dog']\n",
            " ['banana' 'cherry' 'cat']\n",
            " ['banana' 'cherry' 'fish']\n",
            " ['red' 'green' 'apple']\n",
            " ['red' 'green' 'banana']\n",
            " ['red' 'green' 'cherry']\n",
            " ['red' 'green' 'dog']\n",
            " ['red' 'green' 'cat']\n",
            " ['red' 'green' 'fish']\n",
            " ['red' 'blue' 'apple']\n",
            " ['red' 'blue' 'banana']\n",
            " ['red' 'blue' 'cherry']\n",
            " ['red' 'blue' 'dog']\n",
            " ['red' 'blue' 'cat']\n",
            " ['red' 'blue' 'fish']\n",
            " ['green' 'blue' 'apple']\n",
            " ['green' 'blue' 'banana']\n",
            " ['green' 'blue' 'cherry']\n",
            " ['green' 'blue' 'dog']\n",
            " ['green' 'blue' 'cat']\n",
            " ['green' 'blue' 'fish']\n",
            " ['dog' 'cat' 'apple']\n",
            " ['dog' 'cat' 'banana']\n",
            " ['dog' 'cat' 'cherry']\n",
            " ['dog' 'cat' 'red']\n",
            " ['dog' 'cat' 'green']\n",
            " ['dog' 'cat' 'blue']\n",
            " ['dog' 'fish' 'apple']\n",
            " ['dog' 'fish' 'banana']\n",
            " ['dog' 'fish' 'cherry']\n",
            " ['dog' 'fish' 'red']\n",
            " ['dog' 'fish' 'green']\n",
            " ['dog' 'fish' 'blue']\n",
            " ['cat' 'fish' 'apple']\n",
            " ['cat' 'fish' 'banana']\n",
            " ['cat' 'fish' 'cherry']\n",
            " ['cat' 'fish' 'red']\n",
            " ['cat' 'fish' 'green']\n",
            " ['cat' 'fish' 'blue']]\n"
          ]
        }
      ]
    },
    {
      "cell_type": "markdown",
      "source": [
        "This model takes as input images of dimension 28\\*28\\*3 . This should be changed to fit our needs.\n",
        "\n",
        "Better loss than mse should also be integrated."
      ],
      "metadata": {
        "id": "C5ZfL-EAHjtj"
      }
    },
    {
      "cell_type": "code",
      "source": [
        "#Get the base model for siamese network\n",
        "input_layer = Input((64, 64, 12))\n",
        "layer1 = Conv2D(64, (3, 3), activation='relu', padding='same')(input_layer)\n",
        "layer2 = MaxPooling2D((2, 2), padding='same')(layer1)\n",
        "layer3 = Conv2D(32, (3, 3), activation='relu', padding='same')(layer2)\n",
        "layer4 = MaxPooling2D((2, 2), padding='same')(layer3)\n",
        "layer5 = Flatten()(layer4)\n",
        "embeddings = Dense(16, activation=None)(layer5)\n",
        "norm_embeddings = tf.nn.l2_normalize(embeddings, axis=-1)\n",
        "\n",
        "model = Model(inputs=input_layer, outputs=norm_embeddings)\n",
        "\n",
        "\n",
        "# Create left and right twin models\n",
        "input1 = Input((64,64,12))\n",
        "input2 = Input((64,64,12))\n",
        "\n",
        "left_model = model(input1)\n",
        "right_model = model(input2)\n",
        "\n",
        "# Dot product layer\n",
        "#Change to a classifier or small ann in the future\n",
        "dot_product = dot([left_model, right_model], axes=1, normalize=False)\n",
        "\n",
        "#Get the siamese network\n",
        "siamese_model = Model(inputs=[input1, input2], outputs=dot_product)\n",
        "\n",
        "print(siamese_model.summary())"
      ],
      "metadata": {
        "colab": {
          "base_uri": "https://localhost:8080/"
        },
        "id": "tr-mPLg8EMSG",
        "outputId": "501fad6c-24d7-4e2c-91c2-45dd19972966"
      },
      "execution_count": null,
      "outputs": [
        {
          "output_type": "stream",
          "name": "stdout",
          "text": [
            "Model: \"model_1\"\n",
            "__________________________________________________________________________________________________\n",
            " Layer (type)                Output Shape                 Param #   Connected to                  \n",
            "==================================================================================================\n",
            " input_2 (InputLayer)        [(None, 64, 64, 12)]         0         []                            \n",
            "                                                                                                  \n",
            " input_3 (InputLayer)        [(None, 64, 64, 12)]         0         []                            \n",
            "                                                                                                  \n",
            " model (Functional)          (None, 16)                   156528    ['input_2[0][0]',             \n",
            "                                                                     'input_3[0][0]']             \n",
            "                                                                                                  \n",
            " dot (Dot)                   (None, 1)                    0         ['model[0][0]',               \n",
            "                                                                     'model[1][0]']               \n",
            "                                                                                                  \n",
            "==================================================================================================\n",
            "Total params: 156528 (611.44 KB)\n",
            "Trainable params: 156528 (611.44 KB)\n",
            "Non-trainable params: 0 (0.00 Byte)\n",
            "__________________________________________________________________________________________________\n",
            "None\n"
          ]
        }
      ]
    },
    {
      "cell_type": "code",
      "source": [
        "\n",
        "\"\"\" Triplet Loss Model\"\"\"\n",
        "\n",
        "\n",
        "def triplet_loss(y_true, y_pred, alpha=0.175):\n",
        "    \"\"\"\n",
        "    Triplet loss function.\n",
        "\n",
        "    Parameters:\n",
        "        y_true: true labels, not used in the loss function but required for Keras.\n",
        "        y_pred: predicted output from the model.\n",
        "        alpha: margin, a hyperparameter to control the relative importance of the positive and negative terms.\n",
        "\n",
        "    Returns:\n",
        "        Triplet loss value.\n",
        "    \"\"\"\n",
        "    anchor, positive, negative = y_pred[:, :16], y_pred[:, 16:32], y_pred[:, 32:]\n",
        "\n",
        "    # Triplet loss calculation\n",
        "    positive_distance = K.sum(K.square(anchor - positive), axis=1)\n",
        "    negative_distance = K.sum(K.square(anchor - negative), axis=1)\n",
        "    return K.mean(K.maximum(positive_distance - negative_distance + alpha, 0.0))\n",
        "\n",
        "def triplet_loss_r(y_true, y_pred, alpha=0.175, beta = 0.2):\n",
        "    \"\"\"\n",
        "    Triplet loss function.001\n",
        "\n",
        "    Parameters:\n",
        "        y_true: true labels, not used in the loss function but required for Keras.\n",
        "        y_pred: predicted output from the model.\n",
        "        alpha: margin, a hyperparameter to control the relative importance of the positive and negative terms.\n",
        "\n",
        "    Returns:\n",
        "        Triplet loss value.\n",
        "    \"\"\"\n",
        "    anchor, positive, negative = y_pred[:, :16], y_pred[:, 16:32], y_pred[:, 32:]\n",
        "\n",
        "    # Triplet loss calculation\n",
        "    positive_distance = K.sum(K.square(anchor - positive), axis=1)\n",
        "    negative_distance = K.sum(K.square(anchor - negative), axis=1)\n",
        "    triplet_loss = K.mean(K.maximum(positive_distance - negative_distance + alpha, 0.0))\n",
        "\n",
        "    # Regularization term to penalize large distances for positive examples\n",
        "    positive_regularization = K.mean(K.maximum(K.square(positive_distance) - beta, 0.0))\n",
        "     # Regularization term to penalize small distances for negative examples\n",
        "    negative_regularization = K.mean(K.maximum(beta- K.square(negative_distance), 0.0))\n",
        "\n",
        "    return triplet_loss + positive_regularization + negative_regularization\n",
        "\n",
        "\n",
        "\n",
        "def triplet_accuracy(y_true, y_pred, alpha=0.175):\n",
        "    \"\"\"\n",
        "    Triplet accuracy function.\n",
        "\n",
        "    Parameters:\n",
        "        y_true: true labels, not used in the accuracy function but required for Keras.\n",
        "        y_pred: predicted output from the model.\n",
        "        alpha: margin, a hyperparameter to control the relative importance of the positive and negative terms.\n",
        "\n",
        "    Returns:\n",
        "        Triplet accuracy value.\n",
        "    \"\"\"\n",
        "    anchor, positive, negative = y_pred[:, :16], y_pred[:, 16:32], y_pred[:, 32:]\n",
        "\n",
        "    # Triplet accuracy calculation\n",
        "    positive_distance = K.sum(K.square(anchor - positive), axis=1)\n",
        "    negative_distance = K.sum(K.square(anchor - negative), axis=1)\n",
        "    print(positive_distance,negative_distance)\n",
        "    return K.mean(K.maximum(positive_distance - negative_distance + alpha, 0.0) == 0.0)\n",
        "\n"
      ],
      "metadata": {
        "id": "ElvNXPxCrIAh"
      },
      "execution_count": null,
      "outputs": []
    },
    {
      "cell_type": "code",
      "source": [
        "# Model definition\n",
        "from keras.layers import Input, Dense, InputLayer, Conv2D, MaxPooling2D, UpSampling2D, InputLayer, Concatenate, Flatten, Reshape, Lambda, Embedding, dot, Layer, concatenate\n",
        "\n",
        "input_anchor = Input((64, 64, 12))\n",
        "input_positive = Input((64, 64, 12))\n",
        "input_negative = Input((64, 64, 12))\n",
        "\n",
        "embedding_anchor = model(input_anchor)\n",
        "embedding_positive = model(input_positive)\n",
        "embedding_negative = model(input_negative)\n",
        "\n",
        "triplet_loss_output = concatenate([embedding_anchor, embedding_positive, embedding_negative], axis=1)\n",
        "\n",
        "# Triplet loss model\n",
        "siamese_triplet_model = Model(inputs=[input_anchor, input_positive, input_negative], outputs=triplet_loss_output)\n",
        "\n",
        "base_learning_rate = 0.01\n",
        "optimizer=tf.keras.optimizers.Adam(learning_rate=base_learning_rate)\n",
        "siamese_triplet_model.compile(loss=triplet_loss, optimizer=optimizer, metrics = [triplet_accuracy])\n",
        "\n",
        "print(siamese_triplet_model.summary())\n",
        "'''Train the Model'''\n"
      ],
      "metadata": {
        "colab": {
          "base_uri": "https://localhost:8080/",
          "height": 464
        },
        "id": "Ggp6v8Vrq7jM",
        "outputId": "23cb77be-c157-4673-b2ac-4acb5b58cc5d"
      },
      "execution_count": null,
      "outputs": [
        {
          "output_type": "stream",
          "name": "stdout",
          "text": [
            "Model: \"model_3\"\n",
            "__________________________________________________________________________________________________\n",
            " Layer (type)                Output Shape                 Param #   Connected to                  \n",
            "==================================================================================================\n",
            " input_10 (InputLayer)       [(None, 64, 64, 12)]         0         []                            \n",
            "                                                                                                  \n",
            " input_11 (InputLayer)       [(None, 64, 64, 12)]         0         []                            \n",
            "                                                                                                  \n",
            " input_12 (InputLayer)       [(None, 64, 64, 12)]         0         []                            \n",
            "                                                                                                  \n",
            " model (Functional)          (None, 16)                   156528    ['input_10[0][0]',            \n",
            "                                                                     'input_11[0][0]',            \n",
            "                                                                     'input_12[0][0]']            \n",
            "                                                                                                  \n",
            " concatenate_1 (Concatenate  (None, 48)                   0         ['model[8][0]',               \n",
            " )                                                                   'model[9][0]',               \n",
            "                                                                     'model[10][0]']              \n",
            "                                                                                                  \n",
            "==================================================================================================\n",
            "Total params: 156528 (611.44 KB)\n",
            "Trainable params: 156528 (611.44 KB)\n",
            "Non-trainable params: 0 (0.00 Byte)\n",
            "__________________________________________________________________________________________________\n",
            "None\n"
          ]
        },
        {
          "output_type": "execute_result",
          "data": {
            "text/plain": [
              "'Train the Model'"
            ],
            "application/vnd.google.colaboratory.intrinsic+json": {
              "type": "string"
            }
          },
          "metadata": {},
          "execution_count": 6
        }
      ]
    },
    {
      "cell_type": "markdown",
      "source": [
        "# Wrapper code for functions"
      ],
      "metadata": {
        "id": "ck7t3wcMw1Rp"
      }
    },
    {
      "cell_type": "code",
      "source": [
        "file_directory = \"/content/\"\n",
        "# persons = [\"P01\",\"P02\",\"P03\",\"P05\"]\n",
        "persons = [\"P01\",\"P02\"]\n",
        "\n",
        "#pre-process parameters\n",
        "order = 2\n",
        "lowcut = 10\n",
        "highcut = 200\n",
        "fs = 500\n",
        "s = 30\n",
        "ov = 0.2\n",
        "\n",
        "#training_set parameters\n",
        "pos = 5\n",
        "neg = 5\n",
        "\n",
        "#training parameters\n",
        "\n",
        "epochs = 5\n",
        "batch_size = 5\n",
        "loss = 'mse'\n",
        "validation_split = 0.2"
      ],
      "metadata": {
        "id": "oETn9w8lw5Rb"
      },
      "execution_count": null,
      "outputs": []
    },
    {
      "cell_type": "code",
      "source": [
        "prprcs_data = []\n",
        "for prsn in persons:\n",
        "  prprcs_data.append(pre_process(\"/content/\",prsn,order,lowcut,highcut,fs,s,ov))\n",
        "\n",
        "images = []\n",
        "for x in prprcs_data:\n",
        "  try:\n",
        "    images.append(generate_image_2(x))\n",
        "  except:\n",
        "    print(\"skipped an image\")\n",
        "\n",
        "X1,X2,y = get_pairs(images,pos,neg)"
      ],
      "metadata": {
        "colab": {
          "base_uri": "https://localhost:8080/"
        },
        "id": "1arlTFxs3oOf",
        "outputId": "7477e0ed-5661-4a38-fc9a-5962269428ba"
      },
      "execution_count": null,
      "outputs": [
        {
          "output_type": "stream",
          "name": "stdout",
          "text": [
            "['/content/P01/P01-3ACC2.csv', '/content/P01/P01-1ACC2.csv', '/content/P01/P01-5ACC1.csv', '/content/P01/P01-3ACC1.csv', '/content/P01/P01-2ACC1.csv', '/content/P01/P01-7ACC2.csv', '/content/P01/P01-1ACC1.csv', '/content/P01/P01-5ACC2.csv', '/content/P01/P01-4ACC1.csv', '/content/P01/P01-4ACC2.csv', '/content/P01/P01-7ACC1.csv', '/content/P01/P01-2ACC2.csv']\n",
            "['/content/P02/P02-2ACC1.csv', '/content/P02/P02-6ACC2.csv', '/content/P02/P02-1ACC1.csv', '/content/P02/P02-7ACC1.csv', '/content/P02/P02-5ACC2.csv', '/content/P02/P02-1ACC2.csv', '/content/P02/P02-5ACC1.csv', '/content/P02/P02-6ACC1.csv', '/content/P02/P02-4ACC2.csv', '/content/P02/P02-7ACC2.csv', '/content/P02/P02-2ACC2.csv', '/content/P02/P02-3ACC1.csv', '/content/P02/P02-3ACC2.csv', '/content/P02/P02-4ACC1.csv']\n"
          ]
        },
        {
          "output_type": "stream",
          "name": "stderr",
          "text": [
            " 94%|█████████▍| 99/105 [00:01<00:00, 84.14it/s]<ipython-input-10-dd23c7c1f4a3>:16: RuntimeWarning: divide by zero encountered in log10\n",
            "  Sxx_dB = 10 * np.log10(Sxx)\n",
            "<ipython-input-10-dd23c7c1f4a3>:18: RuntimeWarning: invalid value encountered in subtract\n",
            "  Sxx_norm = (Sxx_dB - np.min(Sxx_dB)) / (np.max(Sxx_dB) - np.min(Sxx_dB)) * 255\n",
            "<ipython-input-10-dd23c7c1f4a3>:18: RuntimeWarning: invalid value encountered in divide\n",
            "  Sxx_norm = (Sxx_dB - np.min(Sxx_dB)) / (np.max(Sxx_dB) - np.min(Sxx_dB)) * 255\n",
            "<ipython-input-10-dd23c7c1f4a3>:20: RuntimeWarning: invalid value encountered in cast\n",
            "  Sxx_img = Sxx_norm.astype(np.uint8)\n",
            "100%|██████████| 105/105 [00:01<00:00, 83.60it/s]\n",
            "100%|██████████| 123/123 [00:01<00:00, 82.71it/s]\n"
          ]
        }
      ]
    },
    {
      "cell_type": "code",
      "source": [
        "#compile and fit model\n",
        "siamese_model.compile(optimizer='adam', loss= 'binary_crossentropy', metrics = 'accuracy')\n",
        "history = siamese_model.fit([np.array(X1), np.array(X2)], np.array(y),\n",
        "                            validation_split = validation_split, epochs=epochs,\n",
        "                            batch_size=batch_size, shuffle=True, verbose=True)"
      ],
      "metadata": {
        "id": "O40KpFhFGsuF",
        "colab": {
          "base_uri": "https://localhost:8080/"
        },
        "outputId": "2ddacef8-e5da-4e76-e5a3-da25533f2114"
      },
      "execution_count": null,
      "outputs": [
        {
          "output_type": "stream",
          "name": "stdout",
          "text": [
            "Epoch 1/5\n",
            "4/4 [==============================] - 3s 290ms/step - loss: 1.2598 - accuracy: 0.5625 - val_loss: 2.2932 - val_accuracy: 0.5000\n",
            "Epoch 2/5\n",
            "4/4 [==============================] - 1s 174ms/step - loss: 1.3753 - accuracy: 0.5000 - val_loss: 2.0046 - val_accuracy: 0.5000\n",
            "Epoch 3/5\n",
            "4/4 [==============================] - 1s 226ms/step - loss: 0.6512 - accuracy: 0.5625 - val_loss: 2.1017 - val_accuracy: 0.5000\n",
            "Epoch 4/5\n",
            "4/4 [==============================] - 1s 154ms/step - loss: 0.9633 - accuracy: 0.5625 - val_loss: 2.2793 - val_accuracy: 0.5000\n",
            "Epoch 5/5\n",
            "4/4 [==============================] - 1s 141ms/step - loss: 1.0057 - accuracy: 0.6875 - val_loss: 1.4797 - val_accuracy: 0.5000\n"
          ]
        }
      ]
    },
    {
      "cell_type": "code",
      "source": [
        "history.history.keys()"
      ],
      "metadata": {
        "colab": {
          "base_uri": "https://localhost:8080/"
        },
        "id": "DomWhjVpA0xR",
        "outputId": "04e9ff0b-fab8-4bf3-fce2-369af679bd0f"
      },
      "execution_count": null,
      "outputs": [
        {
          "output_type": "execute_result",
          "data": {
            "text/plain": [
              "dict_keys(['loss', 'accuracy', 'val_loss', 'val_accuracy'])"
            ]
          },
          "metadata": {},
          "execution_count": 21
        }
      ]
    },
    {
      "cell_type": "code",
      "source": [
        "#save the models\n",
        "\n",
        "model.save(os.getcwd()+\"/base_model.h5\")\n",
        "siamese_model.save(os.getcwd()+\"/full_network.h5\")"
      ],
      "metadata": {
        "id": "02ev57cfG_5O",
        "colab": {
          "base_uri": "https://localhost:8080/"
        },
        "outputId": "4ea651ed-2e51-4ed9-9e9f-e7e4232eb095"
      },
      "execution_count": null,
      "outputs": [
        {
          "output_type": "stream",
          "name": "stderr",
          "text": [
            "/usr/local/lib/python3.10/dist-packages/keras/src/engine/training.py:3103: UserWarning: You are saving your model as an HDF5 file via `model.save()`. This file format is considered legacy. We recommend using instead the native Keras format, e.g. `model.save('my_model.keras')`.\n",
            "  saving_api.save_model(\n",
            "WARNING:tensorflow:Compiled the loaded model, but the compiled metrics have yet to be built. `model.compile_metrics` will be empty until you train or evaluate the model.\n"
          ]
        }
      ]
    },
    {
      "cell_type": "markdown",
      "source": [
        "**Plots**"
      ],
      "metadata": {
        "id": "h0exnfNgznWJ"
      }
    },
    {
      "cell_type": "code",
      "source": [
        "plt.plot(history.history['accuracy'])\n",
        "plt.plot(history.history['val_accuracy'])\n",
        "plt.title('model accuracy')\n",
        "plt.ylabel('accuracy')\n",
        "plt.xlabel('epoch')\n",
        "plt.legend(['train', 'val'], loc='upper left')\n",
        "plt.show()"
      ],
      "metadata": {
        "id": "LQ7Nv-1v0hKA",
        "colab": {
          "base_uri": "https://localhost:8080/",
          "height": 472
        },
        "outputId": "e97e182c-8400-49b9-de7b-682bb1fce0ad"
      },
      "execution_count": null,
      "outputs": [
        {
          "output_type": "display_data",
          "data": {
            "text/plain": [
              "<Figure size 640x480 with 1 Axes>"
            ],
            "image/png": "[encoded data removed]"
          },
          "metadata": {}
        }
      ]
    },
    {
      "cell_type": "code",
      "source": [
        "plt.plot(history.history['loss'])\n",
        "plt.plot(history.history['val_loss'])\n",
        "plt.title('model loss')\n",
        "plt.ylabel('loss')\n",
        "plt.xlabel('epoch')\n",
        "plt.legend(['train', 'val'], loc='upper left')\n",
        "plt.show()"
      ],
      "metadata": {
        "id": "VKktB8HY0ytX",
        "colab": {
          "base_uri": "https://localhost:8080/",
          "height": 472
        },
        "outputId": "ca7a2ff8-bc1b-43b1-9630-47b6777d3468"
      },
      "execution_count": null,
      "outputs": [
        {
          "output_type": "display_data",
          "data": {
            "text/plain": [
              "<Figure size 640x480 with 1 Axes>"
            ],
            "image/png": "[encoded data removed]"
          },
          "metadata": {}
        }
      ]
    },
    {
      "cell_type": "code",
      "source": [
        "plot_model(model, to_file=os.getcwd()+'/siamese_model_mnist.png', show_shapes=1, show_layer_names=1)\n"
      ],
      "metadata": {
        "id": "g9Hl4p-2F0UE",
        "colab": {
          "base_uri": "https://localhost:8080/",
          "height": 865
        },
        "outputId": "24a1d306-fa1b-4332-b156-4f7d158624bf"
      },
      "execution_count": null,
      "outputs": [
        {
          "output_type": "execute_result",
          "data": {
            "image/png": "[encoded data removed]",
            "text/plain": [
              "<IPython.core.display.Image object>"
            ]
          },
          "metadata": {},
          "execution_count": 7
        }
      ]
    },
    {
      "cell_type": "code",
      "source": [
        "plot_model(siamese_model, to_file=os.getcwd()+'/siamese_model_mnist.png', show_shapes=1, show_layer_names=1)"
      ],
      "metadata": {
        "id": "AFZ2yjYjFiXc",
        "colab": {
          "base_uri": "https://localhost:8080/",
          "height": 312
        },
        "outputId": "25394a81-6498-4b8d-9404-e9daa209141c"
      },
      "execution_count": null,
      "outputs": [
        {
          "output_type": "execute_result",
          "data": {
            "image/png": "[encoded data removed]",
            "text/plain": [
              "<IPython.core.display.Image object>"
            ]
          },
          "metadata": {},
          "execution_count": 26
        }
      ]
    },
    {
      "cell_type": "code",
      "source": [
        "plot_model(siamese_triplet_model, to_file=os.getcwd()+'/siamese_triplet_model_mnist.png', show_shapes=1, show_layer_names=1)"
      ],
      "metadata": {
        "colab": {
          "base_uri": "https://localhost:8080/",
          "height": 312
        },
        "id": "E7cPV3narMv0",
        "outputId": "55a0afbf-0a17-433a-a595-17aa0ca95893"
      },
      "execution_count": null,
      "outputs": [
        {
          "output_type": "execute_result",
          "data": {
            "image/png": "[encoded data removed]",
            "text/plain": [
              "<IPython.core.display.Image object>"
            ]
          },
          "metadata": {},
          "execution_count": 9
        }
      ]
    },
    {
      "cell_type": "markdown",
      "source": [
        "**Testing**"
      ],
      "metadata": {
        "id": "hqRJN7wJwyAb"
      }
    },
    {
      "cell_type": "code",
      "source": [
        "# from sklearn.metrics import accuracy_score, precision_score, recall_score, f1_score\n",
        "\n",
        "# # Load models\n",
        "# model = load_model(os.getcwd()+\"/bse_model.h5\")\n",
        "# siamese_model = load_model(os.getcwd()+\"/full_network.h5\")\n",
        "\n",
        "# similarity_scores = siamese_model.predict([np.array(X1_test), np.array(X2_test)])\n",
        "# threshold = 0.7\n",
        "# predicted_labels = (similarity_scores > threshold).astype(int)\n",
        "# accuracy = accuracy_score(y_test, predicted_labels)\n",
        "# precision = precision_score(y_test, predicted_labels)\n",
        "# recall = recall_score(y_test, predicted_labels)\n",
        "# f1 = f1_score(y_test, predicted_labels)"
      ],
      "metadata": {
        "id": "IZ7NswsZw0jP"
      },
      "execution_count": null,
      "outputs": []
    },
    {
      "cell_type": "code",
      "source": [
        "def get_far_frr(y_true, y_pred):\n",
        "  '''\n",
        "  y_true: actual labels of data (0 if user should be granted access,\n",
        "                                1 if user should be denied access)\n",
        "  y_pred: predicted labels of data\n",
        "\n",
        "  returns: False Acceptance Rate and False Rejection Rate based on given\n",
        "  actual and predicted labels of the data\n",
        "  '''\n",
        "  tp = 0\n",
        "  fp = 0\n",
        "  tn = 0\n",
        "  fn = 0\n",
        "  for i in range(len(y_true)):\n",
        "    if y_true[i] == y_pred[i] == 0:\n",
        "      tp += 1\n",
        "    elif y_true[i] == y_pred[i] == 1:\n",
        "      tn += 1\n",
        "    elif y_pred[i] == 0:\n",
        "      fp += 1\n",
        "    elif y_pred[i] == 1:\n",
        "      fn += 1\n",
        "  return fp/(fp+tn), fn/(fn+tp)"
      ],
      "metadata": {
        "id": "wO1MbjPM3vUE"
      },
      "execution_count": null,
      "outputs": []
    },
    {
      "cell_type": "markdown",
      "source": [
        "# Old code and resources"
      ],
      "metadata": {
        "id": "1e7SCT3MwG18"
      }
    },
    {
      "cell_type": "markdown",
      "source": [
        "These are some useful links I found:\n",
        "\n",
        "1. https://medium.com/@rinkinag24/a-comprehensive-guide-to-siamese-neural-networks-3358658c0513\n",
        "2. https://builtin.com/machine-learning/siamese-network\n",
        "3. https://towardsdatascience.com/siamese-networks-introduction-and-implementation-2140e3443dee\n",
        "4. https://pyimagesearch.com/2020/11/30/siamese-networks-with-keras-tensorflow-and-deep-learning/"
      ],
      "metadata": {
        "id": "3PVK9mRQISb0"
      }
    },
    {
      "cell_type": "code",
      "source": [
        "stft = librosa.stft(np.random.rand(64,64).reshape(-1)) #nfft,hop_length,win_length: returns 2D array\n",
        "# to display graph\n",
        "fig, ax = plt.subplots()\n",
        "img = librosa.display.specshow(librosa.amplitude_to_db(stft,\n",
        "                                                       ref=np.max),\n",
        "                               y_axis='log', x_axis='time', ax=ax)\n",
        "ax.set_title('Power spectrogram')\n",
        "\n",
        "print(stft.shape)"
      ],
      "metadata": {
        "colab": {
          "base_uri": "https://localhost:8080/",
          "height": 544
        },
        "id": "4gkQNQwQXgIE",
        "outputId": "faef90d3-5c26-42e9-932e-524e87ddf71b"
      },
      "execution_count": null,
      "outputs": [
        {
          "output_type": "stream",
          "name": "stderr",
          "text": [
            "<ipython-input-22-81d813decb24>:4: UserWarning: amplitude_to_db was called on complex input so phase information will be discarded. To suppress this warning, call amplitude_to_db(np.abs(S)) instead.\n",
            "  img = librosa.display.specshow(librosa.amplitude_to_db(stft,\n"
          ]
        },
        {
          "output_type": "stream",
          "name": "stdout",
          "text": [
            "(1025, 9)\n"
          ]
        },
        {
          "output_type": "display_data",
          "data": {
            "text/plain": [
              "<Figure size 640x480 with 1 Axes>"
            ],
            "image/png": "[encoded data removed]"
          },
          "metadata": {}
        }
      ]
    },
    {
      "cell_type": "code",
      "source": [
        "'''\n",
        "Get lists of paths for each image from each person to make a list. Then make a list of all those lists.\n",
        "\n",
        "Later we need to randomly choose equal number of positive and negative pairs.\n",
        "'''\n",
        "\n",
        "\n",
        "def get_positive_pairs(lists):\n",
        "  \"\"\"\n",
        "  This function takes a list of lists (each containing strings) and returns\n",
        "  a list of all possible positive pairs (strings from the same list).\n",
        "  \"\"\"\n",
        "  positive_pairs = []\n",
        "  for string_list in lists:\n",
        "    for i in range(len(string_list)):\n",
        "      for j in range(i + 1, len(string_list)):\n",
        "        positive_pairs.append((string_list[i], string_list[j]))\n",
        "  return positive_pairs\n",
        "\n",
        "def get_negative_pairs(lists):\n",
        "  \"\"\"\n",
        "  This function takes a list of lists (each containing strings) and returns\n",
        "  a list of all possible negative pairs (strings from different lists).\n",
        "  \"\"\"\n",
        "  negative_pairs = []\n",
        "  for i in range(len(lists)):\n",
        "    for j in range(i + 1, len(lists)):\n",
        "      for string1 in lists[i]:\n",
        "        for string2 in lists[j]:\n",
        "          negative_pairs.append((string1, string2))\n",
        "  return negative_pairs\n",
        "\n",
        "\n",
        "# Sample lists (replace with your actual data)\n",
        "lists = [[\"apple\", \"banana\", \"cherry\"], [\"red\", \"green\", \"blue\"], [\"dog\", \"cat\", \"fish\"]]\n",
        "\n",
        "# Get positive pairs\n",
        "positive_pairs = get_positive_pairs(lists)\n",
        "print(positive_pairs)\n",
        "\n",
        "# Get negative pairs\n",
        "negative_pairs = get_negative_pairs(lists)\n",
        "print(negative_pairs)\n"
      ],
      "metadata": {
        "colab": {
          "base_uri": "https://localhost:8080/"
        },
        "id": "UfMXe4-r9Het",
        "outputId": "a3ff4d2e-b37e-415e-e35c-6e27e08c7373"
      },
      "execution_count": null,
      "outputs": [
        {
          "output_type": "stream",
          "name": "stdout",
          "text": [
            "[('apple', 'banana'), ('apple', 'cherry'), ('banana', 'cherry'), ('red', 'green'), ('red', 'blue'), ('green', 'blue'), ('dog', 'cat'), ('dog', 'fish'), ('cat', 'fish')]\n",
            "[('apple', 'red'), ('apple', 'green'), ('apple', 'blue'), ('banana', 'red'), ('banana', 'green'), ('banana', 'blue'), ('cherry', 'red'), ('cherry', 'green'), ('cherry', 'blue'), ('apple', 'dog'), ('apple', 'cat'), ('apple', 'fish'), ('banana', 'dog'), ('banana', 'cat'), ('banana', 'fish'), ('cherry', 'dog'), ('cherry', 'cat'), ('cherry', 'fish'), ('red', 'dog'), ('red', 'cat'), ('red', 'fish'), ('green', 'dog'), ('green', 'cat'), ('green', 'fish'), ('blue', 'dog'), ('blue', 'cat'), ('blue', 'fish')]\n"
          ]
        }
      ]
    },
    {
      "cell_type": "code",
      "source": [
        "# #GPTs model\n",
        "\n",
        "# # Create the model\n",
        "# model = tf.keras.Sequential()\n",
        "\n",
        "# # Layer 1: Convolutional layer with 32 filters, 3x3 kernel size, and ReLU activation\n",
        "# model.add(Conv2D(64, (3, 3), activation='relu', input_shape=(64, 64, 12)))\n",
        "\n",
        "# # Layer 2: Max-pooling layer with 2x2 pool size\n",
        "# model.add(MaxPooling2D(pool_size=(2, 2)))\n",
        "\n",
        "# # Layer 3: Convolutional layer with 64 filters, 3x3 kernel size, and ReLU activation\n",
        "# model.add(Conv2D(32, (3, 3), activation='relu'))\n",
        "\n",
        "# # Layer 4: Max-pooling layer with 2x2 pool size\n",
        "# model.add(MaxPooling2D(pool_size=(2, 2)))\n",
        "\n",
        "# # Layer 5: Flatten layer to convert 2D feature maps to 1D vector\n",
        "# model.add(Flatten())\n",
        "\n",
        "# # Output layer: Fully connected layer with 16 units (for 16 classes or features)\n",
        "# model.add(Dense(16, activation='softmax'))\n",
        "\n",
        "# # Compile the model\n",
        "# model.compile(optimizer='adam', loss='categorical_crossentropy', metrics=['accuracy'])\n",
        "\n",
        "# # Summary of the model architecture\n",
        "# model.summary()"
      ],
      "metadata": {
        "id": "9AS7ET2xIkuR"
      },
      "execution_count": null,
      "outputs": []
    },
    {
      "cell_type": "code",
      "source": [
        "# import numpy as np\n",
        "# import matplotlib.pyplot as plt\n",
        "# from scipy import signal\n",
        "# from PIL import Image\n",
        "\n",
        "def generate_image(data, fs, window_size=0.1, overlap=0.5, target_size=(64, 64)):\n",
        "    \"\"\"\n",
        "    Generate spectrogram plots for each column of sensor data and combine them into a 12-channel image.\n",
        "\n",
        "    Args:\n",
        "        data: Windowed sensor data. Shape: (window_data_size, num_channels)\n",
        "        fs: Sampling frequency\n",
        "        window_size: Width of the window in seconds\n",
        "        overlap: Overlap between consecutive windows (0 to 1)\n",
        "        target_size: Target size for each spectrogram image\n",
        "\n",
        "    Returns:\n",
        "        A 12-channel image combined from spectrogram plots.\n",
        "    \"\"\"\n",
        "    # num_channels = data.shape[1]\n",
        "    num_channels = 12\n",
        "    num_windows = data[0].shape[0]\n",
        "    combined_image = []\n",
        "\n",
        "    # Calculate the number of samples per window\n",
        "    nperseg = int(window_size * fs)\n",
        "    # Calculate the overlap in samples\n",
        "    noverlap = int(nperseg * overlap)\n",
        "\n",
        "    for i in range(num_channels):\n",
        "        f, t, Sxx = signal.spectrogram(data[:, i], fs, window='hamming', nperseg=nperseg, noverlap=noverlap)\n",
        "\n",
        "        # Convert spectrogram to dB scale\n",
        "        Sxx_dB = 10 * np.log10(Sxx)\n",
        "\n",
        "        # Normalize the dB values to 0-255 for grayscale image\n",
        "        Sxx_norm = (Sxx_dB - np.min(Sxx_dB)) / (np.max(Sxx_dB) - np.min(Sxx_dB)) * 255\n",
        "        # Convert to uint8\n",
        "        Sxx_img = Sxx_norm.astype(np.uint8)\n",
        "\n",
        "        # Resize image to target size\n",
        "        img = Image.fromarray(Sxx_img)\n",
        "        img_resized = img.resize(target_size)\n",
        "\n",
        "        # Plot and show the resized image\n",
        "        plt.figure(figsize=(3, 3))\n",
        "        plt.imshow(img_resized)\n",
        "        plt.axis('off')\n",
        "        plt.title(f'Channel {i+1}')\n",
        "        plt.show()\n",
        "\n",
        "        # Add to combined image\n",
        "        combined_image.append(np.array(img_resized))\n",
        "\n",
        "    # Stack images along the last axis to create a 12-channel image\n",
        "    combined_image = np.stack(combined_image, axis=-1)\n",
        "\n",
        "    return combined_image\n"
      ],
      "metadata": {
        "id": "X2L4fwoqlNE_"
      },
      "execution_count": null,
      "outputs": []
    }
  ]
}